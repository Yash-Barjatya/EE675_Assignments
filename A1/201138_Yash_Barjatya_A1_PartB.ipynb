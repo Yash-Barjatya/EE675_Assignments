{
  "cells": [
    {
      "cell_type": "markdown",
      "metadata": {
        "id": "-WuEfEVo2seo"
      },
      "source": [
        "# EE675A - Assignment 1"
      ]
    },
    {
      "cell_type": "markdown",
      "metadata": {
        "id": "i29hbFMG2ses"
      },
      "source": [
        "**Name:** *Yash Barjatya* <br />\n",
        "**Roll No:** *201138*\n",
        "***\n",
        "## Instructions\n",
        "\n",
        "- **Release Date**: **21st Jan 2024**  \n",
        "- **Deadline**: **Part B : 4th Feb 2024 11:59PM**\n",
        "- Kindly name your submission files as `RollNo_Name_A1_PartB.ipynb`, based on the part you are submitting. Marks will be deducted for all submissions that do not follow the naming guidelines. <br />\n",
        "- You are required to work out your answers and submit only the iPython Notebook. The code should be well commented and easy to understand as there are marks for this. This notebook can be used as a template for assignment submission. <br />\n",
        "- Submissions are to be made through HelloIITK portal. Submissions made through mail will not be graded.<br />\n",
        "- Answers to the theory questions if any should be included in the notebook itself. While using special symbols use the $\\LaTeX$ mode <br />\n",
        "- Make sure your plots are clear and have title, legends and clear lines, etc. <br />\n",
        "- Plagiarism of any form will not be tolerated. If your solutions are found to match with other students or from other uncited sources, there will be heavy penalties and the incident will be reported to the disciplinary authorities. <br />\n",
        "- In case you have any doubts, feel free to reach out to TAs for help. <br />\n",
        "\n",
        "***\n",
        "## Introduction\n",
        "\n",
        "You are free to use parts of the given code but may also choose to write the whole thing on your own.  \n",
        "The illustrations for Part-B are adapted from [Alejandro's blog post](https://medium.com/@alejandro.aristizabal24/understanding-reinforcement-learning-hands-on-part-2-multi-armed-bandits-526592072bdc) on Multi-Armed Bandits. Throughout the course we will be using the [Gymnasium toolkit](https://gymnasium.farama.org/index.html) for the assignements so before starting you may want to go through the [basic usage](https://gymnasium.farama.org/content/basic_usage/) and basics of gymnasium and the installation procedure."
      ]
    },
    {
      "cell_type": "markdown",
      "metadata": {
        "id": "wON2nVET2set",
        "tags": []
      },
      "source": [
        "***\n",
        "# Part B: Multi-armed bandits\n",
        "## Demo and Preliminaries\n",
        "\n",
        "We will begin by getting familiar with the basic problem setup before we dig in to the actual assignement problems. Let's start by loading all the required libraries for this notebook. For generating plots you must have `ipympl` installed and `jupyter-matplotlib` extension installed and enabled."
      ]
    },
    {
      "cell_type": "code",
      "execution_count": null,
      "metadata": {
        "colab": {
          "base_uri": "https://localhost:8080/"
        },
        "id": "H89KRE9N2seu",
        "outputId": "56c6f45e-5b2e-4a12-dbd0-f25047f1e83d"
      },
      "outputs": [],
      "source": [
        "# Import necessary libraries\n",
        "!python.exe -m pip install --upgrade pip\n",
        "!pip install \"gymnasium\"\n",
        "!pip install ipympl\n",
        "!pip install matplotlib\n",
        "!pip install tqdm\n",
        "%matplotlib widget\n",
        "import numpy as np\n",
        "import matplotlib.pyplot as plt\n",
        "from matplotlib.animation import FuncAnimation\n",
        "import gymnasium as gym\n",
        "from tqdm import tqdm\n",
        "import time"
      ]
    },
    {
      "cell_type": "markdown",
      "metadata": {
        "id": "9O01qmZN2sev"
      },
      "source": [
        "## Scenario\n",
        "\n",
        "The Multi-Armed Bandit describes a situation in which an agent has only one state, and multiple actions to interact with the environment. Each action gives a random reward, centered on an unkown value. Our agent wants to maximize the reward received, which means it wants to find the action that yields a higher reward. Based on this, let's build the scenario.\n",
        "\n",
        "We're going to implement the multi-armed bandit environment using OpenAI's gym interface. Also, our implementation will be vectorized for the sake of optimization. This allows us to run multiple agents on multiple environments at the same time. The code below is based on [this implementation](https://github.com/diegoalejogm/openai-k-armed-bandits)"
      ]
    },
    {
      "cell_type": "code",
      "execution_count": null,
      "metadata": {
        "id": "Vz6nX5I_2sev"
      },
      "outputs": [],
      "source": [
        "from gymnasium import spaces\n",
        "from gymnasium.utils import seeding\n",
        "import gymnasium as gym\n",
        "\n",
        "class ArmedBanditsEnv(gym.Env):\n",
        "    \"\"\"\n",
        "    The famous k-Armed Bandit Environment, implemented for the gym interface.\n",
        "    Initialization requires an array of length equals to k, where each item is\n",
        "    a function which samples from a specified distribution.\n",
        "    \"\"\"\n",
        "    metadata = {'render.modes': ['human']}\n",
        "\n",
        "    def __init__(self, mean, stddev):\n",
        "        assert len(mean.shape) == 2\n",
        "        assert len(stddev.shape) == 2\n",
        "\n",
        "        super(ArmedBanditsEnv, self).__init__()\n",
        "        # Define action and observation space\n",
        "        self.num_bandits = mean.shape[1]\n",
        "        self.num_experiments = mean.shape[0]\n",
        "        self.action_space = spaces.Discrete(self.num_bandits)\n",
        "\n",
        "        # Theres one state only in the k-armed bandits problem\n",
        "        self.observation_space = spaces.Discrete(1)\n",
        "        self.mean = mean\n",
        "        self.stddev = stddev\n",
        "\n",
        "    def step(self, action):\n",
        "        # Sample from the specified bandit using it's reward distribution\n",
        "        assert (action < self.num_bandits).all()\n",
        "\n",
        "        sampled_means = self.mean[np.arange(self.num_experiments),action]\n",
        "        sampled_stddevs = self.stddev[np.arange(self.num_experiments),action]\n",
        "\n",
        "        reward = np.random.normal(loc=sampled_means, scale=sampled_stddevs, size=(1,self.num_experiments))\n",
        "\n",
        "        # Return a constant state of 0. Our environment has no terminal state\n",
        "        observation, done, info = 0, False, dict()\n",
        "        return observation, reward, done, info\n",
        "\n",
        "    def reset(self):\n",
        "        return 0\n",
        "\n",
        "    def render(self, mode='human', close=False):\n",
        "        pass\n",
        "\n",
        "    def _seed(self, seed=None):\n",
        "        self.np_random, seed = seeding.np.random(seed)\n",
        "        return [seed]\n",
        "\n",
        "    def close(self):\n",
        "        pass\n",
        "\n",
        "\n",
        "class ArmedBanditsGaussian(ArmedBanditsEnv):\n",
        "    def __init__(self, num_experiments=1, num_bandits=3):\n",
        "        self.means = np.random.normal(size=(num_experiments, num_bandits))\n",
        "\n",
        "        ArmedBanditsEnv.__init__(self, self.means, np.ones((num_experiments, num_bandits)))"
      ]
    },
    {
      "cell_type": "markdown",
      "metadata": {
        "id": "fWmKZ0uX2sew"
      },
      "source": [
        "Here we're creating two classes, `ArmedBanditsEnv` is the main class, while `ArmedBanditsGaussian` is an auxiliary class that allows us to easily create an environment with random mean rewards for each action. Our environment receives numpy arrays for the means and standard deviations for each action. The dimensions of this arrays are described as `num_experiments`x`num_bandits`. Taking a step requires a numpy vector of size `num_experiments`, where each value specifies which action to take for each experiment. The step functions returns, among other information, a vector of reward obtained for each experiment. Let's see this in action:"
      ]
    },
    {
      "cell_type": "code",
      "execution_count": null,
      "metadata": {
        "colab": {
          "base_uri": "https://localhost:8080/"
        },
        "id": "rc9rBv-T2sex",
        "outputId": "73f66c80-6c1b-4fc5-e7a8-b7f780f934c6"
      },
      "outputs": [],
      "source": [
        "means = np.array([[5, 1, 0, -10]]) # The mean for a four-armed bandit. Single experiment\n",
        "stdev = np.array([[1, 0.1, 5, 1]]) # The standard deviation for a four-armed bandit.\n",
        "\n",
        "env = ArmedBanditsEnv(means, stdev) # Create the environment\n",
        "\n",
        "for i in range(4):\n",
        "    action = np.array([[i]])\n",
        "    _, reward, _, _ = env.step(action)\n",
        "    print(\"Bandit:\", i, \" gave a reward of:\", reward[0])"
      ]
    },
    {
      "cell_type": "markdown",
      "metadata": {
        "id": "tSsziz9u2sey"
      },
      "source": [
        "## Evaluating our actions"
      ]
    },
    {
      "cell_type": "markdown",
      "metadata": {
        "id": "P8g7dhvZ2sez"
      },
      "source": [
        "In order to learn something from our interaction with the environment, we need to know how exactly we determine the value of our actions, as well as how to keep that value up to date. A simple strategy our agents can take is to calculate the expected return for each action. This can be done through experience by taking the average of previous rewards given by a determined action.\n",
        "\n",
        "For example, we can use the next list of rewards to calculate the expected return of the chosen action:\n",
        "\n",
        "$\\bar{\\mu}_n = \\dfrac{R_1+R_2+\\dots+R_n}{n}$\n",
        "\n",
        "Having to store all the previously seen rewards to calculate the value of an action is cumbersome, inefficient and unnecessary. We can derive another form of average, called *Incremental average update rule*, which only requires us to know the previous average $\\bar{\\mu}_{n-1}$ and the number $n$:\n",
        "\n",
        "$\\bar{\\mu}_n = \\bar{\\mu}_{n-1} + \\dfrac{1}{n}(R_n - \\bar{\\mu}_{n-1})$\n",
        "\n",
        "Here's a small demonstration of this function at work"
      ]
    },
    {
      "cell_type": "code",
      "execution_count": null,
      "metadata": {
        "colab": {
          "base_uri": "https://localhost:8080/"
        },
        "id": "_hvBWbzZ2sez",
        "outputId": "645bd8fe-9160-4774-fdca-f02680baeb79"
      },
      "outputs": [],
      "source": [
        "def inc_avg(prev_avg, new_val, n):\n",
        "    return prev_avg + 1/n*(new_val - prev_avg)\n",
        "\n",
        "# Obtain the previous average\n",
        "vals = np.array([4.5, 5.04, 5.32, 4.8, 5.11])\n",
        "prev_avg = vals.mean()\n",
        "\n",
        "# Calculate a new average using the incremental average update function\n",
        "new_val = 5.18\n",
        "new_avg = inc_avg(prev_avg, new_val, 6)\n",
        "\n",
        "# Calculate the same average using all previous values for comparison\n",
        "avg = np.append(vals, new_val).mean()\n",
        "\n",
        "print(\"Average obtained from incremental update rule: \", new_avg)\n",
        "print(\"Average obtained from basic average function:  \", avg)"
      ]
    },
    {
      "cell_type": "markdown",
      "metadata": {
        "id": "di0QdX_n2sez"
      },
      "source": [
        "This method will be used on the next strategies"
      ]
    },
    {
      "cell_type": "markdown",
      "metadata": {
        "id": "hEuDOZ852se0"
      },
      "source": [
        "## The Greedy Agent\n",
        "\n",
        "This strategy is focused on always choosing the best known action at the time. Every time the agent takes an action, it looks at the estimated values for each action, and chooses the one that has a greater score. If more than two values look best, then the agent selects arbitrarily among those best-valued actions. This is called breaking ties arbitrarily\n",
        "\n",
        "Taking the action with the greatest value is equivalent to using the **argmax** function. Although, we need to implement some changes so that the funciton breaks the ties the way we intend it to do:"
      ]
    },
    {
      "cell_type": "code",
      "execution_count": null,
      "metadata": {
        "id": "IFNJoUd92se0"
      },
      "outputs": [],
      "source": [
        "def argmax(q_values):\n",
        "    \"\"\"\n",
        "    Takes in a matrix of n*k q_values and returns the index\n",
        "    of the item with the highest value for each row.\n",
        "    Breaks ties randomly.\n",
        "    returns: vector of size n, where each item is the index of\n",
        "    the highest value in q_values for each row.\n",
        "    \"\"\"\n",
        "    # Generate a mask of the max values for each row\n",
        "    mask = q_values == q_values.max(axis=1)[:, None]\n",
        "    # Generate noise to be added to the ties\n",
        "    r_noise = 1e-6*np.random.random(q_values.shape)\n",
        "    # Get the argmax of the noisy masked values\n",
        "    return np.argmax(r_noise*mask,axis=1)"
      ]
    },
    {
      "cell_type": "markdown",
      "metadata": {
        "id": "AfXWUrgO2se0"
      },
      "source": [
        "Here we're generating a mask of all the values in the input that are equal to the maximum value. Then ,we generate some noise and multiply it with the mask. Taking the argmax of this new list will be equivalent to the desired argmax with ties broken arbitrarily.\n",
        "\n",
        "Now that we have specified the argmax function, we can declare our class for the Greedy Agent, which is capable of acting upon the environment, and updating its estimates after receiving a reward."
      ]
    },
    {
      "cell_type": "code",
      "execution_count": null,
      "metadata": {
        "id": "dUjX3Vz02se1"
      },
      "outputs": [],
      "source": [
        "class GreedyAgent:\n",
        "    def __init__(self, reward_estimates):\n",
        "        \"\"\"\n",
        "        Our agent takes as input the initial reward estimates.\n",
        "        This estimates will be updated incrementally after each\n",
        "        interaction with the environment.\n",
        "        \"\"\"\n",
        "        assert len(reward_estimates.shape) == 2\n",
        "\n",
        "        self.num_bandits = reward_estimates.shape[1]\n",
        "        self.num_experiments = reward_estimates.shape[0]\n",
        "        self.reward_estimates = reward_estimates.astype(np.float64)\n",
        "        self.action_count = np.zeros(reward_estimates.shape)\n",
        "\n",
        "    def get_action(self):\n",
        "        # Our agent is greedy, so there's no need for exploration.\n",
        "        # Our argmax will do just fine for this situation\n",
        "        action = argmax(self.reward_estimates)\n",
        "\n",
        "        # Add a 1 to each action selected in the action count\n",
        "        self.action_count[np.arange(self.num_experiments), action] += 1\n",
        "\n",
        "        return action\n",
        "\n",
        "    def update_estimates(self, reward, action):\n",
        "        # rew is a matrix with the obtained rewards from our previuos\n",
        "        # action. Use this to update our estimates incrementally\n",
        "        n = self.action_count[np.arange(self.num_experiments), action]\n",
        "        prev_reward_estimates = self.reward_estimates[np.arange(self.num_experiments), action]\n",
        "\n",
        "        # Update the reward estimates incementally\n",
        "        self.reward_estimates[np.arange(self.num_experiments), action] = inc_avg(prev_reward_estimates,reward,n)"
      ]
    },
    {
      "cell_type": "markdown",
      "metadata": {
        "id": "GkLDTxGg2se1"
      },
      "source": [
        "The greedy agent contains a matrix for the estimates, as well as for the number of times each action has been taken. This is necessary for using the incremental average update rule, used inside the `update_estimates` function."
      ]
    },
    {
      "cell_type": "markdown",
      "metadata": {
        "id": "sQmJ4qtp2se1"
      },
      "source": [
        "### Testing the agent\n",
        "\n",
        "Let's see how the Greedy Agent behaves on the environment. For this, we're going to generate some animations where we're able to see how the agent estimates the values for each action, as well as the real values provided by the environment. Remember that the agent doesn't have access to that information."
      ]
    },
    {
      "cell_type": "code",
      "execution_count": null,
      "metadata": {
        "colab": {
          "base_uri": "https://localhost:8080/",
          "height": 417
        },
        "id": "Z_jM_1_W2se1",
        "outputId": "f7b7250a-d084-4e87-a924-dc87518c5ec1"
      },
      "outputs": [],
      "source": [
        "# Initialize the environment of our multi-armed bandit problem\n",
        "num_experiments = 2\n",
        "num_bandits = 8\n",
        "num_steps = 100\n",
        "means = np.random.normal(size=(num_experiments, num_bandits))\n",
        "stdev = np.ones((num_experiments, num_bandits))\n",
        "\n",
        "env = ArmedBanditsEnv(means, stdev)\n",
        "\n",
        "# Initialize the agent\n",
        "agent = GreedyAgent(np.zeros((num_experiments,num_bandits)))\n",
        "\n",
        "# Code for plotting the interaction\n",
        "fig, axs = plt.subplots(1, num_experiments, figsize=(10, 4))\n",
        "x_pos = np.arange(num_bandits)\n",
        "\n",
        "def init():\n",
        "    axa = [];\n",
        "    for i in range(num_experiments):\n",
        "        init_ax(i)\n",
        "        # axa.append(init_ax(i))\n",
        "    # return axa\n",
        "\n",
        "def init_ax(i):\n",
        "    ax = axs[i]\n",
        "    ax.clear()\n",
        "    ax.set_ylim(-4, 4)\n",
        "    ax.set_xlim(-0.5, num_bandits-.5)\n",
        "    ax.set_xlabel('Actions', fontsize=14)\n",
        "    ax.set_ylabel('Value', fontsize=14)\n",
        "    ax.set_title(label='Estimated Values vs. Real values', fontsize=15)\n",
        "    ax.plot(x_pos, env.mean[i], marker='D', linestyle='', alpha=0.8, color='r', label='Real Values')\n",
        "    ax.axhline(0, color='black', lw=1)\n",
        "    # return ax\n",
        "\n",
        "\n",
        "# Implement a step, which involves the agent acting upon the\n",
        "# environment and learning from the received reward.\n",
        "def step(g):\n",
        "    action = agent.get_action()\n",
        "    _, reward, _, _ = env.step(action)\n",
        "    agent.update_estimates(reward, action)\n",
        "    axa = []\n",
        "    for i in range(num_experiments):\n",
        "        ax = axs[i]\n",
        "        # Plot the estimated values from the agent compared to the real values\n",
        "        estimates = agent.reward_estimates[i]\n",
        "        init_ax(i)\n",
        "        values = ax.bar(x_pos, estimates, align='center', color='blue', alpha=0.4, label='Estimated Values')\n",
        "        ax.legend()\n",
        "        # axa.append(ax)\n",
        "    # return axa\n",
        "\n",
        "anim = FuncAnimation(fig, func=step, frames=num_steps, init_func=init, interval=10, repeat=False, blit=True)\n",
        "plt.show()\n",
        "\n",
        "# Uncomment the next line if you wish to store the animations as a gif\n",
        "# anim.save('./greedy-agent.gif', writer='imagemagick', fps=60)\n"
      ]
    },
    {
      "cell_type": "markdown",
      "metadata": {
        "id": "liI8-lBU2se2"
      },
      "source": [
        "you may try the previous block of code multiple times to see multiple animations. In general, you may realize that most of the actions are not explored by the agent, and that it will mostly stick to the one action that gave it some positive reward. The agent is good at evading negative values, but it will only land on the optimal action by pure chance.\n",
        "\n",
        "We can plot the average behavior by doing more experiments. The next plot displays the percentage of times the agent chose the optimal action over an average of 10000 experiments."
      ]
    },
    {
      "cell_type": "code",
      "execution_count": null,
      "metadata": {
        "colab": {
          "base_uri": "https://localhost:8080/",
          "height": 470
        },
        "id": "mBAlPJxg2se2",
        "outputId": "49f8e83b-2c7f-4681-8fdb-8c353c7585d6"
      },
      "outputs": [],
      "source": [
        "num_experiments = 10000\n",
        "num_steps = 1000\n",
        "num_actions = 10\n",
        "\n",
        "# Initialize the environment\n",
        "env = ArmedBanditsGaussian(num_experiments, num_actions)\n",
        "# Initialize the agent\n",
        "agent = GreedyAgent(np.zeros((num_experiments, num_actions)))\n",
        "\n",
        "# Store the scores and averages for later plotting\n",
        "averages = np.zeros((num_steps))\n",
        "optimality = np.zeros((num_steps))\n",
        "scores = np.zeros((num_experiments, num_steps+1))\n",
        "\n",
        "#Store the optimal actions for later use\n",
        "optimal = np.argmax(env.mean, axis=1)\n",
        "\n",
        "for i in tqdm(range(num_steps)):\n",
        "    # Select an action to execute on the environment\n",
        "    action = agent.get_action()\n",
        "    _, reward, _, _ = env.step(action)\n",
        "\n",
        "    # Update the agent estimates with the previously observed rewards\n",
        "    agent.update_estimates(reward, action)\n",
        "\n",
        "    # Store the average cumulative score and optimality of the current step\n",
        "    scores[:,i+1] = scores[:,i] + reward\n",
        "    avg_score = np.mean(scores[:,i+1]/(i+1))\n",
        "    averages[i] = avg_score\n",
        "\n",
        "    # Get optimal actions from the environment\n",
        "    current_optimality = np.mean(action == optimal)\n",
        "    optimality[i] = current_optimality\n",
        "\n",
        "plt.figure(figsize=(12,6), dpi=80, facecolor='w', edgecolor='k')\n",
        "plt.plot([1.0 for _ in range(num_steps)], linestyle='--')\n",
        "plt.plot([0.0 for _ in range(num_steps)], linestyle='--')\n",
        "plt.plot(optimality)\n",
        "plt.legend([\"Best Possible\", \"Worst Possible\", \"Greedy\"])\n",
        "plt.title(\"Average Optimality of Greedy Agent\", fontsize=14)\n",
        "plt.ylabel(\"% of Optimal Action Taken\")\n",
        "plt.xlabel(\"Steps\")\n",
        "plt.show()\n",
        "greedy_scores = averages\n",
        "greedy_optimality = optimality"
      ]
    },
    {
      "cell_type": "markdown",
      "metadata": {
        "id": "qWa-6MVh2se3"
      },
      "source": [
        "The Greedy Agent chooses the best action on average ~40% of the times. Additionally, extra experience won't improve it's score, as it usually lands on a sub-optimal action on the first steps, and stays there for ever. The Greedy Agent is not a good strategy for finding the optimal action on this scenario."
      ]
    },
    {
      "cell_type": "markdown",
      "metadata": {
        "id": "QKr4rdEa2se3"
      },
      "source": [
        "## The Epsilon-Greedy Agent\n",
        "\n",
        "Another strategy is the Epsilon Greedy Agent, which adds to the previous strategy. An Epsilon-Greedy Agent allows for some exploratory actions, by every once in a while choosing any action randomly, instead of always acting greedily. The probability of taking an exploratory action is defined by the parameter `epsilon`. An epsilon of `0` is a Greedy Agent. An epsilon of `0.2` means our agent takes a random action 20% of the time. An epsilon of `1` is an agent that behaves randomly. Let's build this new agent"
      ]
    },
    {
      "cell_type": "code",
      "execution_count": null,
      "metadata": {
        "id": "Poi42r3d2se3"
      },
      "outputs": [],
      "source": [
        "class EpsilonGreedyAgent(GreedyAgent):\n",
        "    def __init__(self, reward_estimates, epsilon):\n",
        "        GreedyAgent.__init__(self, reward_estimates)\n",
        "        # Store the epsilon value\n",
        "        assert epsilon >= 0 and epsilon <= 1\n",
        "        self.epsilon = epsilon\n",
        "\n",
        "    def get_action(self):\n",
        "        # We need to redefine this function so that it takes an exploratory action with epsilon probability\n",
        "\n",
        "        # One hot encoding: 0 if exploratory, 1 otherwise\n",
        "        action_type = (np.random.random_sample(self.num_experiments) > self.epsilon).astype(int)\n",
        "        # Generate both types of actions for every experiment\n",
        "        exploratory_action = np.random.randint(self.num_bandits, size=self.num_experiments)\n",
        "        greedy_action = argmax(self.reward_estimates)\n",
        "        # Use the one hot encoding to mask the actions for each experiment\n",
        "        action = greedy_action * action_type + exploratory_action * (1 - action_type)\n",
        "\n",
        "        self.action_count[np.arange(self.num_experiments), action] += 1\n",
        "\n",
        "        return action"
      ]
    },
    {
      "cell_type": "markdown",
      "metadata": {
        "id": "t1KQFxgD2se3"
      },
      "source": [
        "As may be seen, we're inheriting the `GreedyAgent` implementation, and only changing the `get_action` function. For taking an action, we're using a masking that defines which experiments will choose an action randomly and which will act greedily. Then, we apply that masking between random and greedy actions to obtain the action vector for all of our experiments."
      ]
    },
    {
      "cell_type": "markdown",
      "metadata": {
        "id": "f_hRV_Xk2se6"
      },
      "source": [
        "### Testing the Agent"
      ]
    },
    {
      "cell_type": "markdown",
      "metadata": {
        "id": "hPE2O8AU2se6"
      },
      "source": [
        "Here, we're going to use the same animation as before to observe how this new strategy behaves. Our agents will have a value of epsilon of `0.1`"
      ]
    },
    {
      "cell_type": "code",
      "execution_count": null,
      "metadata": {
        "colab": {
          "referenced_widgets": [
            "80e4bb527a0c4774a097a1534b213383",
            "f7bf92826b1e4d0ea70266bd394268c4"
          ]
        },
        "id": "SWWsxxsa2se7",
        "outputId": "a2bf3f66-e4dd-482d-a95e-083ed5647110"
      },
      "outputs": [],
      "source": [
        "# Initialize the environment of our multi-armed bandit problem\n",
        "num_experiments = 2\n",
        "num_bandits = 8\n",
        "num_steps = 200\n",
        "means = np.random.normal(size=(num_experiments, num_bandits))\n",
        "stdev = np.ones((num_experiments, num_bandits))\n",
        "\n",
        "env = ArmedBanditsEnv(means, stdev)\n",
        "\n",
        "# Initialize the agent\n",
        "agent = EpsilonGreedyAgent(np.zeros((num_experiments,num_bandits)), 0.1)\n",
        "\n",
        "# Code for plotting the interaction\n",
        "fig, axs = plt.subplots(1, num_experiments, figsize=(10, 4))\n",
        "x_pos = np.arange(num_bandits)\n",
        "\n",
        "def init():\n",
        "    for i in range(num_experiments):\n",
        "        init_ax(i)\n",
        "\n",
        "\n",
        "def init_ax(i):\n",
        "    ax = axs[i]\n",
        "    ax.clear()\n",
        "    ax.set_ylim(-4, 4)\n",
        "    ax.set_xlim(-0.5, num_bandits-.5)\n",
        "    ax.set_xlabel('Actions', fontsize=14)\n",
        "    ax.set_ylabel('Value', fontsize=14)\n",
        "    ax.set_title(label='Estimated Values vs. Real values', fontsize=15)\n",
        "    ax.plot(x_pos, env.mean[i], marker='D', linestyle='', alpha=0.8, color='r', label='Real Values')\n",
        "    ax.axhline(0, color='black', lw=1)\n",
        "\n",
        "# Implement a step, which involves the agent acting upon the\n",
        "# environment and learning from the received reward.\n",
        "def step(g):\n",
        "    action = agent.get_action()\n",
        "    _, reward, _, _ = env.step(action)\n",
        "    agent.update_estimates(reward, action)\n",
        "    for i in range(num_experiments):\n",
        "        ax = axs[i]\n",
        "        # Plot the estimated values from the agent compared to the real values\n",
        "        estimates = agent.reward_estimates[i]\n",
        "        init_ax(i)\n",
        "        values = ax.bar(x_pos, estimates, align='center', color='blue', alpha=0.4, label='Estimated Values')\n",
        "        ax.legend()\n",
        "\n",
        "anim = FuncAnimation(fig, func=step, frames=np.arange(num_steps), init_func=init, interval=10, repeat=False, blit=True)\n",
        "plt.show()\n",
        "\n",
        "# Uncomment the next line if you wish to store the animations as a gif\n",
        "# anim.save('./epsilon-greedy-agent.gif', writer='imagemagick', fps=60)"
      ]
    },
    {
      "cell_type": "markdown",
      "metadata": {
        "id": "kQBszQNX2se7"
      },
      "source": [
        "Again, you may run the previous block multiple times to see different runs. As can be observed, the epsilon-greedy agent not only finds the optimal solution most of the times, but it is also capable of finding close estimated values for all the actions! How does our new strategy compares to the greedy agent on average?"
      ]
    },
    {
      "cell_type": "code",
      "execution_count": null,
      "metadata": {
        "id": "gUk7GyL22se7"
      },
      "outputs": [],
      "source": [
        "def run_experiment(num_experiments=1000, num_steps=1000, num_actions=10,epsilon=0.1):\n",
        "    # Initialize the environment\n",
        "    env = ArmedBanditsGaussian(num_experiments, num_actions)\n",
        "    # Initialize the agent\n",
        "    agent = EpsilonGreedyAgent(np.zeros((num_experiments, num_actions)), epsilon)\n",
        "\n",
        "    # Store the scores and averages for later plotting\n",
        "    averages = np.zeros((num_steps))\n",
        "    optimality = np.zeros((num_steps))\n",
        "    scores = np.zeros((num_experiments, num_steps+1))\n",
        "\n",
        "    #Store the optimal actions for later use\n",
        "    optimal = np.argmax(env.mean, axis=1)\n",
        "\n",
        "    for i in tqdm(range(num_steps)):\n",
        "        # Select an action to execute on the environment\n",
        "        action = agent.get_action()\n",
        "        _, reward, _, _ = env.step(action)\n",
        "\n",
        "        # Update the agent estimates with the previously observed rewards\n",
        "        agent.update_estimates(reward, action)\n",
        "\n",
        "        # Store the average cumulative score and optimality of the current step\n",
        "        scores[:,i+1] = scores[:,i] + reward\n",
        "        avg_score = np.mean(scores[:,i+1]/(i+1))\n",
        "        averages[i] = avg_score\n",
        "\n",
        "        # Get optimal actions from the environment\n",
        "        current_optimality = np.mean(action == optimal)\n",
        "        optimality[i] = current_optimality\n",
        "    return optimality, averages"
      ]
    },
    {
      "cell_type": "code",
      "execution_count": null,
      "metadata": {
        "colab": {
          "referenced_widgets": [
            "ee23248ec89842c38e0a0ceb72fc232b",
            "b929f3fc9e414c4db31e2c9a00e617b1"
          ]
        },
        "id": "RLNOrcM82se7",
        "outputId": "edab55e8-00ab-4a91-ad48-da7a5c159836"
      },
      "outputs": [],
      "source": [
        "num_experiments = 10000\n",
        "num_steps = 1000\n",
        "num_actions = 10\n",
        "epsilon = 0.1\n",
        "\n",
        "balanced_eps_optimality, balanced_eps_scores = run_experiment(num_experiments, num_steps, num_actions, epsilon)\n",
        "\n",
        "plt.figure(figsize=(12,6), dpi=80, facecolor='w', edgecolor='k')\n",
        "plt.plot([1.0 for _ in range(num_steps)], linestyle='--')\n",
        "plt.plot([0.0 for _ in range(num_steps)], linestyle='--')\n",
        "plt.plot(balanced_eps_optimality)\n",
        "plt.plot(greedy_optimality)\n",
        "plt.legend([\"Best Possible\", \"Worst Possible\", \"0.1 $\\epsilon$ Greedy\", \"Greedy\"])\n",
        "plt.title(\"Average Optimality of Greedy Agent vs Epsilon-Greedy Agent\")\n",
        "plt.ylabel(\"% of Optimal Action Taken\")\n",
        "plt.xlabel(\"Steps\")\n",
        "plt.show()"
      ]
    },
    {
      "cell_type": "markdown",
      "metadata": {
        "id": "h6yXM3Rw2se8"
      },
      "source": [
        "After 1000 steps, the Epsilon-Greedy Agent is capable of reaching an 80% average optimality. This means that on average, they choose the best possible action 80% of the times after that amount of iterations. We can also see how our agent is capable of improving from experience, contrary to the Greedy Agent."
      ]
    },
    {
      "cell_type": "markdown",
      "metadata": {
        "id": "vOGGfJRm2se8"
      },
      "source": [
        "## Values for epsilon"
      ]
    },
    {
      "cell_type": "markdown",
      "metadata": {
        "id": "4zx_9bwy2se8"
      },
      "source": [
        "On the previous example, we used a value for `epsilon` of `0.1`. This means that the agent chose an exploratory action 10% of the times. What would have happened if we chose another action? Like with almost all hyper-parameters in Machine Learning, there's a range of values which behave better than others. Let's make an actual experiment using different values for `epsilon`"
      ]
    },
    {
      "cell_type": "code",
      "execution_count": null,
      "metadata": {
        "colab": {
          "referenced_widgets": [
            "c99d5001fc2a433e8f37c90ddc673b5d",
            "c7cf0cf405e24d7880b8277334aff30b"
          ]
        },
        "id": "G-OedWQ72se8",
        "outputId": "65281e44-d1c6-47f3-cf38-1d6af30e862a"
      },
      "outputs": [],
      "source": [
        "num_experiments = 1000\n",
        "num_steps = 1000\n",
        "num_actions = 10\n",
        "epsilons = np.array([0.0, 0.01, 0.1, 0.4])\n",
        "\n",
        "plt.figure(figsize=(12,6), dpi=80, facecolor='w', edgecolor='k')\n",
        "# plt.plot([1.6 for _ in range(num_steps)], linestyle='--') # why 1.6?\n",
        "\n",
        "\n",
        "for epsilon in epsilons:\n",
        "    _, reward = run_experiment(num_experiments, num_steps, num_actions, epsilon)\n",
        "\n",
        "    plt.plot(reward)\n",
        "\n",
        "# plt.legend([\"Best Possible\"] + epsilons.tolist())\n",
        "plt.legend(epsilons.tolist())\n",
        "plt.title(\"Average reward for multiple values of epsilon\")\n",
        "plt.xlabel(\"Steps\")\n",
        "plt.ylabel(\"Average Reward\")\n",
        "plt.show()"
      ]
    },
    {
      "cell_type": "markdown",
      "metadata": {
        "id": "e2NwECSH2se8"
      },
      "source": [
        "Here, we're plotting the average amount of reward received by the agent. This is because plotting the optimality on this many tests gets too crowded and noisy. As can be seen, the agent with an epsilon of `0.1` was the one that received the most amount of reward. Values of epsilon that are too small take very few exploratory actions, and therefore take a long time to explore and find the most optimal value. On the other hand, values of `epsilon` too high will obstruct the capacity of the agent of acting optimally. Too much exploration gets in the way of exploitation."
      ]
    },
    {
      "cell_type": "markdown",
      "metadata": {
        "id": "32BlCjd3HvId"
      },
      "source": [
        "***\n",
        "## Part B questions\n",
        "\n",
        "Now that we have familiarized ourselves with the basic setup let us test a few more stratergies as part of the assignment problem.\n",
        "\n",
        "Consider a two-armed Bernoulli bandit scenario with true means given by $\\mu_1 = \\frac{1}{2}, \\mu_2= \\frac{1}{2}+\\Delta$, for some $\\Delta < \\frac{1}{2}$. Let the time horizon be $T=10000$. `[20 Marks]`"
      ]
    },
    {
      "cell_type": "markdown",
      "metadata": {},
      "source": [
        "### B1\n",
        "Take $\\Delta=\\frac{1}{4}$ and run the Monte Carlo simulations to estimate the expected regret of the ETC algorithm which explores each arm $m = T^{2/3} (\\log T)^{1/3}$ times before committing. Specifically, you run the ETC algorithm to compute the sample regret \n",
        "$$ \\mu_2 * T - \\sum_{t=1}^T R_t, $$ \n",
        "where $R_t$ is the reward obtained in time step $t$.\n",
        "\n",
        "Repeat this experiment 500 times and estimate the expected regret by taking the average of the sample regrets you obtained in all those 500 experiments. `[5 Marks]`"
      ]
    },
    {
      "cell_type": "code",
      "execution_count": 36,
      "metadata": {},
      "outputs": [],
      "source": [
        "# write your code for the above part here\n",
        "import numpy as np\n",
        "import matplotlib.pyplot as plt"
      ]
    },
    {
      "cell_type": "code",
      "execution_count": 37,
      "metadata": {},
      "outputs": [],
      "source": [
        "# Parameters\n",
        "T = 10000\n",
        "mu1 = 0.5\n",
        "delta =0.25\n",
        "mu2 = mu1+delta\n",
        "m = int(T**(2/3) * (np.log(T))**(1/3))\n",
        "n_sims = 500"
      ]
    },
    {
      "cell_type": "code",
      "execution_count": 38,
      "metadata": {},
      "outputs": [],
      "source": [
        "# Function to simulate the ETC algorithm\n",
        "def simulate_etc(mu2):\n",
        "    arm_counts = [0, 0]\n",
        "    arm_rewards = [0, 0]\n",
        "    total_reward = 0\n",
        "    for t in range(T):\n",
        "        if t < 2 * m:\n",
        "            # Exploration phase\n",
        "            arm = t % 2\n",
        "        else:\n",
        "            # Exploitation phase\n",
        "            arm = np.argmax(arm_rewards)\n",
        "\n",
        "        # Generate reward for chosen arm using bernoulli distribution\n",
        "        reward = np.random.binomial(1, mu1 if arm == 0 else mu2)\n",
        "        arm_counts[arm] += 1\n",
        "        arm_rewards[arm] += reward\n",
        "        total_reward += reward\n",
        "\n",
        "    # Calculate sample regret\n",
        "    regret = mu2 * T - total_reward\n",
        "    return regret"
      ]
    },
    {
      "cell_type": "code",
      "execution_count": 39,
      "metadata": {},
      "outputs": [],
      "source": [
        "# Monte Carlo simulations\n",
        "def monte_carlo_simulations(mu2,algorithm):\n",
        "    regrets = []\n",
        "    for _ in range(n_sims):\n",
        "        regret = algorithm(mu2)\n",
        "        regrets.append(regret)\n",
        "    # Estimate expected regret\n",
        "    expected_regret = np.mean(regrets)\n",
        "    return expected_regret\n"
      ]
    },
    {
      "cell_type": "code",
      "execution_count": 40,
      "metadata": {},
      "outputs": [
        {
          "name": "stdout",
          "output_type": "stream",
          "text": [
            "Estimated expected ETC regret: 244.814\n"
          ]
        }
      ],
      "source": [
        "mu2= 0.5+0.25\n",
        "print(\"Estimated expected ETC regret:\", monte_carlo_simulations(mu2,simulate_etc))"
      ]
    },
    {
      "cell_type": "markdown",
      "metadata": {},
      "source": [
        "### B2\n",
        "\n",
        "Repeat the above for various values of $\\Delta \\in \\{0.05, 0.1, 0.2, 0.3, 0.4, 0.45\\}$ and plot the estimated regret as a function of $\\Delta$ and verify whether it satisfies the regret upper bound we derived in class. `[5 Marks]`"
      ]
    },
    {
      "cell_type": "code",
      "execution_count": 17,
      "metadata": {},
      "outputs": [],
      "source": [
        "# Parameters\n",
        "T = 10000\n",
        "mu1 = 0.5\n",
        "delta_values = [0.05, 0.1, 0.2, 0.3, 0.4, 0.45]\n",
        "m = int(T**(2/3) * (np.log(T))**(1/3))\n",
        "n_sims = 500"
      ]
    },
    {
      "cell_type": "markdown",
      "metadata": {},
      "source": [
        "Run Monte Carlo simulation for each Delta value"
      ]
    },
    {
      "cell_type": "code",
      "execution_count": 18,
      "metadata": {},
      "outputs": [],
      "source": [
        "# Run simulations for each Delta value\n",
        "etc_regrets = []\n",
        "for delta in delta_values:\n",
        "    mu2 = mu1 + delta\n",
        "    estimated_regret = monte_carlo_simulations(mu2,simulate_etc)\n",
        "    etc_regrets.append(estimated_regret)\n"
      ]
    },
    {
      "cell_type": "code",
      "execution_count": 19,
      "metadata": {},
      "outputs": [
        {
          "data": {
            "image/png": "[encoded data removed]",
            "text/plain": [
              "<Figure size 640x480 with 1 Axes>"
            ]
          },
          "metadata": {},
          "output_type": "display_data"
        }
      ],
      "source": [
        "# Plot the results\n",
        "plt.plot(delta_values, etc_regrets,marker='o', markersize=5, linestyle='-', label=\"ETC Regret\")\n",
        "plt.grid(True, which='both', linestyle='--', linewidth=0.5)\n",
        "plt.xlabel(\"Delta\")\n",
        "plt.ylabel(\"Regret\")\n",
        "plt.title(\"Estimated Regret vs. Delta for ETC Algorithm\")\n",
        "plt.legend()\n",
        "plt.show()"
      ]
    },
    {
      "cell_type": "markdown",
      "metadata": {},
      "source": [
        "**ETC REGRET UPPER BOUND VERIFICATION**\n",
        "- The upper bound for regret for ETC algortihm is E[regret]<= int(T**(2/3) * (np.log(T))**(1/3))<=972 (for T = 10000 in our case)\n",
        "- From the above plot it is clearly visible that the estimated regret of the ETC algorithm for all tested values of Delta falls below the theoretical upper bound of 972."
      ]
    },
    {
      "cell_type": "markdown",
      "metadata": {},
      "source": [
        "### B3 \n",
        "Repeat the experiment with the UCB algorithm and plot the comparison with ETC. `[10 Marks]`"
      ]
    },
    {
      "cell_type": "code",
      "execution_count": 20,
      "metadata": {},
      "outputs": [],
      "source": [
        "# Parameters\n",
        "T = 10000\n",
        "mu1 = 0.5\n",
        "delta_values = [0.05, 0.1, 0.2, 0.3, 0.4, 0.45]\n",
        "n_sims = 500"
      ]
    },
    {
      "cell_type": "code",
      "execution_count": 29,
      "metadata": {},
      "outputs": [],
      "source": [
        "# Function to simulate the UCB algorithm\n",
        "def simulate_ucb(mu2):\n",
        "    arm_counts = [0, 0] \n",
        "    arm_rewards = [0, 0]\n",
        "    total_reward = 0\n",
        "    for t in range(T):\n",
        "        if t < 2:\n",
        "        # explore each arm once  \n",
        "            arm = t\n",
        "        else:\n",
        "        # Calculate UCB indices for each arm\n",
        "            ucb_indices = [\n",
        "                arm_rewards[i] / arm_counts[i] + np.sqrt(1.5 * np.log(t) / arm_counts[i])\n",
        "                for i in range(2)\n",
        "            ]\n",
        "            # Choose the arm with the highest UCB index\n",
        "            arm = np.argmax(ucb_indices)\n",
        "\n",
        "        # Generate reward for chosen arm\n",
        "        reward = np.random.binomial(1, mu1 if arm == 0 else mu2)\n",
        "        arm_counts[arm] += 1\n",
        "        arm_rewards[arm] += reward\n",
        "        total_reward += reward\n",
        "\n",
        "    # Calculate sample regret\n",
        "    regret = mu2 * T - total_reward\n",
        "    return regret\n"
      ]
    },
    {
      "cell_type": "code",
      "execution_count": 30,
      "metadata": {},
      "outputs": [],
      "source": [
        "# Run simulations for UCB\n",
        "ucb_regrets = []\n",
        "for delta in delta_values:\n",
        "    mu2 = mu1 + delta\n",
        "    estimated_regret = monte_carlo_simulations(mu2,simulate_ucb)\n",
        "    ucb_regrets.append(estimated_regret)\n"
      ]
    },
    {
      "cell_type": "code",
      "execution_count": 31,
      "metadata": {},
      "outputs": [
        {
          "data": {
            "image/png": "[encoded data removed]",
            "text/plain": [
              "<Figure size 640x480 with 1 Axes>"
            ]
          },
          "metadata": {},
          "output_type": "display_data"
        }
      ],
      "source": [
        "# Plot the results\n",
        "plt.plot(delta_values, etc_regrets,marker='o', markersize=5, linestyle='-', label=\"ETC Regret\")\n",
        "plt.plot(delta_values, ucb_regrets,marker='s', markersize=5, linestyle='-', label=\"UCB Regret\")\n",
        "plt.grid(True, which='both', linestyle='--', linewidth=0.5)\n",
        "plt.xlabel(\"Delta\")\n",
        "plt.ylabel(\"Regret\")\n",
        "plt.title(\"Comparison of ETC and UCB Regret\")\n",
        "plt.legend()\n",
        "plt.show()"
      ]
    },
    {
      "cell_type": "markdown",
      "metadata": {},
      "source": [
        "**UCB REGRET UPPER BOUND VERIFICATION**\n",
        "- The upper bound for regret for UCB algortihm is E[regret]<= int((K*T* (np.log(T)))**(1/2))<=430 (for K=2 and T = 10000 in our case)\n",
        "- From the above plot it is clearly visible that the estimated regret of the UCB algorithm for all tested values of Delta falls below the theoretical upper bound of 430.\n",
        "- Also worst case regret of UCB algorithm is less than that of ETC algorithm."
      ]
    },
    {
      "cell_type": "markdown",
      "metadata": {},
      "source": [
        "### B4\n",
        "(**Bonus**) In the ETC algorithm, assume that we know $\\Delta$, and choose a better $m$ as function of $\\Delta$ and repeat the experiments and compare with UCB. What did you observe?\n",
        "\n",
        "Hint: Check how many samples of exploration are required to make $\\epsilon < \\frac{\\Delta}{2}$ with a high probability of $1-\\frac{1}{T}$. `[5 Marks]`"
      ]
    },
    {
      "cell_type": "code",
      "execution_count": 32,
      "metadata": {},
      "outputs": [],
      "source": [
        "# Function to simulate the ETC algorithm\n",
        "def simulate_modified_etc(mu2,m):\n",
        "    arm_counts = [0, 0]\n",
        "    arm_rewards = [0, 0]\n",
        "    total_reward = 0\n",
        "    for t in range(T):\n",
        "        if t < 2 * m:\n",
        "            # Exploration phase\n",
        "            arm = t % 2\n",
        "        else:\n",
        "            # Exploitation phase\n",
        "            arm = np.argmax(arm_rewards)\n",
        "\n",
        "        # Generate reward for chosen arm using bernoulli distribution\n",
        "        reward = np.random.binomial(1, mu1 if arm == 0 else mu2)\n",
        "        arm_counts[arm] += 1\n",
        "        arm_rewards[arm] += reward\n",
        "        total_reward += reward\n",
        "\n",
        "    # Calculate sample regret\n",
        "    regret = mu2 * T - total_reward\n",
        "    return regret"
      ]
    },
    {
      "cell_type": "code",
      "execution_count": 33,
      "metadata": {},
      "outputs": [],
      "source": [
        "# Run simulations for each Delta value\n",
        "modified_etc_regrets = []\n",
        "for delta in delta_values:\n",
        "    mu2 = mu1 + delta\n",
        "    epsilon = delta/2 # as we want 2*epsilon < delta\n",
        "    m = int(np.log(4 * T) / (2 * epsilon**2)) # setting 4*exp(-2*epsilon**2*m) = 1/T (to achieve probability 1- 1/T)\n",
        "    modified_etc_regret = np.mean([simulate_modified_etc(mu2,m) for _ in range(n_sims)])\n",
        "    modified_etc_regrets.append(modified_etc_regret)\n"
      ]
    },
    {
      "cell_type": "code",
      "execution_count": 34,
      "metadata": {},
      "outputs": [
        {
          "data": {
            "image/png": "[encoded data removed]",
            "text/plain": [
              "<Figure size 640x480 with 1 Axes>"
            ]
          },
          "metadata": {},
          "output_type": "display_data"
        }
      ],
      "source": [
        "# Plot the results\n",
        "plt.plot(delta_values, modified_etc_regrets,marker='o', markersize=5, linestyle='-', label=\"ETC Regret\")\n",
        "plt.plot(delta_values, ucb_regrets,marker='s', markersize=5, linestyle='-', label=\"UCB Regret\")\n",
        "plt.grid(True, which='both', linestyle='--', linewidth=0.5)\n",
        "plt.xlabel(\"Delta\")\n",
        "plt.ylabel(\"Regret\")\n",
        "plt.title(\"Comparison of ETC and UCB Regret\")\n",
        "plt.legend()\n",
        "plt.show()"
      ]
    },
    {
      "cell_type": "markdown",
      "metadata": {},
      "source": [
        "**OBSERVATION**\n",
        " - For smaller values of Delta, the UCB algorithm outperforms the ETC algorithm, as indicated by its lower regret. \n",
        " - However, as Delta increases, the performance of the ETC algorithm improves significantly and becomes comparable to that of the UCB algorithm.\n",
        " - For larger values of Delta, both algorithms exhibit similar levels of regret.\n",
        "\n",
        " Thus the performance of the ETC algorithm can be significantly improved by choosing a better m as a function of Delta."
      ]
    }
  ],
  "metadata": {
    "colab": {
      "provenance": []
    },
    "kernelspec": {
      "display_name": "Python 3 (ipykernel)",
      "language": "python3",
      "name": "python3"
    },
    "language_info": {
      "codemirror_mode": {
        "name": "ipython",
        "version": 3
      },
      "file_extension": ".py",
      "mimetype": "text/x-python",
      "name": "python",
      "nbconvert_exporter": "python",
      "pygments_lexer": "ipython3",
      "version": "3.9.5"
    }
  },
  "nbformat": 4,
  "nbformat_minor": 0
}
